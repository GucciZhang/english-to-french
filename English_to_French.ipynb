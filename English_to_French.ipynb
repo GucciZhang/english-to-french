{
  "nbformat": 4,
  "nbformat_minor": 0,
  "metadata": {
    "colab": {
      "name": "English to French.ipynb",
      "provenance": [],
      "mount_file_id": "1TPCI3vfhPNQy_gcduZoFnWlv0Bp5q4dh",
      "authorship_tag": "ABX9TyN0/UFVW3LxTEqrpkmsAxQL"
    },
    "kernelspec": {
      "name": "python3",
      "display_name": "Python 3"
    },
    "language_info": {
      "name": "python"
    },
    "accelerator": "GPU"
  },
  "cells": [
    {
      "cell_type": "code",
      "metadata": {
        "colab": {
          "base_uri": "https://localhost:8080/"
        },
        "id": "Uc8qxSRr0mz1",
        "outputId": "a55a4f02-0f7e-4fc6-9912-3b9eb422a511"
      },
      "source": [
        "!git pull"
      ],
      "execution_count": 14,
      "outputs": [
        {
          "output_type": "stream",
          "name": "stdout",
          "text": [
            "Already up to date.\n"
          ]
        }
      ]
    },
    {
      "cell_type": "code",
      "metadata": {
        "colab": {
          "base_uri": "https://localhost:8080/"
        },
        "id": "7AtbuEWY208p",
        "outputId": "686e7f54-5d7c-4131-c7ef-09a6d43704e9"
      },
      "source": [
        "!git status"
      ],
      "execution_count": 15,
      "outputs": [
        {
          "output_type": "stream",
          "name": "stdout",
          "text": [
            "On branch main\n",
            "Your branch is up to date with 'origin/main'.\n",
            "\n",
            "Untracked files:\n",
            "  (use \"git add <file>...\" to include in what will be committed)\n",
            "\n",
            "\t\u001b[31mfra.txt\u001b[m\n",
            "\n",
            "nothing added to commit but untracked files present (use \"git add\" to track)\n"
          ]
        }
      ]
    },
    {
      "cell_type": "code",
      "metadata": {
        "id": "6a_a4QoRjC3x",
        "colab": {
          "base_uri": "https://localhost:8080/"
        },
        "outputId": "b3d44fd9-ed7a-4b4e-fc8b-0bc320c3bbe5"
      },
      "source": [
        "'''\n",
        "  Setup tensorflow and other imports\n",
        "'''\n",
        "import tensorflow as tf\n",
        "device_name = tf.test.gpu_device_name()\n",
        "if device_name != '/device:GPU:0':\n",
        "  raise SystemError('GPU device not found')\n",
        "print('Found GPU at: {}'.format(device_name))\n",
        "\n",
        "import pandas as pd"
      ],
      "execution_count": 16,
      "outputs": [
        {
          "output_type": "stream",
          "name": "stdout",
          "text": [
            "Found GPU at: /device:GPU:0\n"
          ]
        }
      ]
    },
    {
      "cell_type": "code",
      "metadata": {
        "colab": {
          "base_uri": "https://localhost:8080/"
        },
        "id": "ePH5klvPy1GK",
        "outputId": "768da1ca-c269-4b6e-c260-13cc2e7030e3"
      },
      "source": [
        "'''\n",
        "  Data processing\n",
        "'''\n",
        "lines = pd.read_table('fra.txt', names=['eng', 'fra', 'other'])\n",
        "lines = lines.drop('other', axis=1)\n",
        "\n",
        "# Convert all to lowercase\n",
        "lines = lines.applymap(lambda x: x.lower())\n",
        "\n",
        "# Remove special characters\n",
        "\n",
        "print(lines.head(50))"
      ],
      "execution_count": 34,
      "outputs": [
        {
          "output_type": "stream",
          "name": "stdout",
          "text": [
            "       eng                             fra\n",
            "0      go.                            va !\n",
            "1      go.                         marche.\n",
            "2      go.                         bouge !\n",
            "3      hi.                         salut !\n",
            "4      hi.                          salut.\n",
            "5     run!                         cours !\n",
            "6     run!                        courez !\n",
            "7     run!  prenez vos jambes à vos cous !\n",
            "8     run!                          file !\n",
            "9     run!                         filez !\n",
            "10    run!                         cours !\n",
            "11    run!                         fuyez !\n",
            "12    run!                        fuyons !\n",
            "13    run.                         cours !\n",
            "14    run.                        courez !\n",
            "15    run.  prenez vos jambes à vos cous !\n",
            "16    run.                          file !\n",
            "17    run.                         filez !\n",
            "18    run.                         cours !\n",
            "19    run.                         fuyez !\n",
            "20    run.                        fuyons !\n",
            "21    who?                           qui ?\n",
            "22    wow!                      ça alors !\n",
            "23   duck!                       à terre !\n",
            "24   duck!                    baisse-toi !\n",
            "25   duck!                  baissez-vous !\n",
            "26   fire!                        au feu !\n",
            "27   help!                      à l'aide !\n",
            "28   hide.                      cache-toi.\n",
            "29   hide.                    cachez-vous.\n",
            "30   jump!                          saute.\n",
            "31   jump.                          saute.\n",
            "32   stop!                     ça suffit !\n",
            "33   stop!                          stop !\n",
            "34   stop!                    arrête-toi !\n",
            "35   wait!                       attends !\n",
            "36   wait!                      attendez !\n",
            "37   wait!                       attendez.\n",
            "38   wait.                       attends !\n",
            "39   wait.                      attendez !\n",
            "40   wait.                        attends.\n",
            "41   wait.                       attendez.\n",
            "42  begin.                      commencez.\n",
            "43  begin.                       commence.\n",
            "44  go on.                       poursuis.\n",
            "45  go on.                      continuez.\n",
            "46  go on.                     poursuivez.\n",
            "47  hello!                       bonjour !\n",
            "48  hello!                         salut !\n",
            "49  i see.                   je comprends.\n"
          ]
        }
      ]
    }
  ]
}