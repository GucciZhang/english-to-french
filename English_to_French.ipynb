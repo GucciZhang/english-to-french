{
  "nbformat": 4,
  "nbformat_minor": 0,
  "metadata": {
    "colab": {
      "name": "English to French.ipynb",
      "provenance": [],
      "mount_file_id": "1TPCI3vfhPNQy_gcduZoFnWlv0Bp5q4dh",
      "authorship_tag": "ABX9TyNVeHzPActPlc8advkHYgiH",
      "include_colab_link": true
    },
    "kernelspec": {
      "name": "python3",
      "display_name": "Python 3"
    },
    "language_info": {
      "name": "python"
    },
    "accelerator": "GPU"
  },
  "cells": [
    {
      "cell_type": "markdown",
      "metadata": {
        "id": "view-in-github",
        "colab_type": "text"
      },
      "source": [
        "<a href=\"https://colab.research.google.com/github/GucciZhang/english-to-french/blob/main/English_to_French.ipynb\" target=\"_parent\"><img src=\"https://colab.research.google.com/assets/colab-badge.svg\" alt=\"Open In Colab\"/></a>"
      ]
    },
    {
      "cell_type": "code",
      "metadata": {
        "colab": {
          "base_uri": "https://localhost:8080/"
        },
        "id": "Uc8qxSRr0mz1",
        "outputId": "1665ec1c-a102-4d03-ff69-cc6d317a01e5"
      },
      "source": [
        "!git clone https://github.com/GucciZhang/english-to-french.git\n",
        "%cd english-to-french/"
      ],
      "execution_count": 3,
      "outputs": [
        {
          "output_type": "stream",
          "name": "stdout",
          "text": [
            "Cloning into 'english-to-french'...\n",
            "remote: Enumerating objects: 7, done.\u001b[K\n",
            "remote: Counting objects: 100% (7/7), done.\u001b[K\n",
            "remote: Compressing objects: 100% (5/5), done.\u001b[K\n",
            "remote: Total 7 (delta 1), reused 0 (delta 0), pack-reused 0\u001b[K\n",
            "Unpacking objects: 100% (7/7), done.\n"
          ]
        }
      ]
    },
    {
      "cell_type": "code",
      "metadata": {
        "colab": {
          "base_uri": "https://localhost:8080/"
        },
        "id": "PcITv35f3Goz",
        "outputId": "61f2cbbb-4c14-4092-ccb2-cebf88e56d4e"
      },
      "source": [
        "!git add .\n",
        "!git commit -m \"Stuff\"\n",
        "!git push"
      ],
      "execution_count": 16,
      "outputs": [
        {
          "output_type": "stream",
          "name": "stdout",
          "text": [
            "\n",
            "*** Please tell me who you are.\n",
            "\n",
            "Run\n",
            "\n",
            "  git config --global user.email \"you@example.com\"\n",
            "  git config --global user.name \"Your Name\"\n",
            "\n",
            "to set your account's default identity.\n",
            "Omit --global to set the identity only in this repository.\n",
            "\n",
            "fatal: unable to auto-detect email address (got 'root@83ff0822e3da.(none)')\n",
            "fatal: could not read Username for 'https://github.com': No such device or address\n"
          ]
        }
      ]
    },
    {
      "cell_type": "code",
      "metadata": {
        "id": "6a_a4QoRjC3x",
        "colab": {
          "base_uri": "https://localhost:8080/"
        },
        "outputId": "882b4dd0-5567-4032-938d-b86ddf8463c8"
      },
      "source": [
        "'''\n",
        "  Setup tensorflow and other imports\n",
        "'''\n",
        "import tensorflow as tf\n",
        "device_name = tf.test.gpu_device_name()\n",
        "if device_name != '/device:GPU:0':\n",
        "  raise SystemError('GPU device not found')\n",
        "print('Found GPU at: {}'.format(device_name))\n",
        "\n",
        "import pandas as pd\n",
        "import re"
      ],
      "execution_count": 6,
      "outputs": [
        {
          "output_type": "stream",
          "name": "stdout",
          "text": [
            "Found GPU at: /device:GPU:0\n"
          ]
        }
      ]
    },
    {
      "cell_type": "code",
      "metadata": {
        "id": "ePH5klvPy1GK",
        "colab": {
          "base_uri": "https://localhost:8080/"
        },
        "outputId": "f31143cd-2cc2-4ebc-ac18-60ae72afba25"
      },
      "source": [
        "'''\n",
        "  Data processing\n",
        "'''\n",
        "lines = pd.read_table('fra.txt', names=['eng', 'fra', 'other'])\n",
        "lines = lines.drop('other', axis=1)\n",
        "\n",
        "# Convert all to lowercase\n",
        "lines = lines.applymap(lambda x: x.lower())\n",
        "\n",
        "# Remove special characters\n",
        "# For now, remove all in the future see if apostrophe for contractions matters\n",
        "# Also remove - and replace with space? Not sure how best to handle this\n",
        "lines = lines.applymap(lambda x: re.sub('[\"!,\\.\\?0-9]', '', x))\n",
        "lines = lines.applymap(lambda x: re.sub('[\\-]', ' ', x))\n",
        "\n",
        "# Remove extra whitespace\n",
        "lines = lines.applymap(lambda x: x.strip())\n",
        "\n",
        "# Add start and end tokens\n",
        "lines.fra = lines.fra.apply(lambda x: '_START_ ' + x + ' _END_')\n",
        "\n",
        "print(lines.sample(10))"
      ],
      "execution_count": 14,
      "outputs": [
        {
          "output_type": "stream",
          "name": "stdout",
          "text": [
            "                                                      eng                                                fra\n",
            "148936              i have to go on a diet to lose weight  _START_ je dois suivre un régime pour perdre d...\n",
            "152656             i don't think tom will ever forgive me  _START_ je ne pense pas que tom me pardonnera ...\n",
            "59592                              you may kiss the bride          _START_ tu peux embrasser la mariée _END_\n",
            "99615                        i think that i should resign  _START_ je pense que je devrais démissionner _...\n",
            "98052                        he put the book on the table        _START_ il posa le livre sur la table _END_\n",
            "37833                                 tom needs something        _START_ tom a besoin de quelque chose _END_\n",
            "41421                                i like your painting               _START_ j'apprécie ton tableau _END_\n",
            "126554                   it's evident that you told a lie  _START_ il est évident que vous racontez un me...\n",
            "19560                                    please try again          _START_ veuillez essayer de nouveau _END_\n",
            "168118        would you be so kind as to shut that window  _START_ seriez vous assez aimable pour fermer ...\n",
            "168567       he was the only one not invited to the party  _START_ il a été le seul à ne pas être invité ...\n",
            "125599                   i should've been honest with you    _START_ j'aurais dû être honnête avec toi _END_\n",
            "106516                      i often get a letter from him  _START_ je reçois souvent des lettres de lui _...\n",
            "8266                                        that was nice                       _START_ c'était gentil _END_\n",
            "123966                   don't leave things half finished  _START_ ne laissez pas les choses à moitié ter...\n",
            "10511                                      i was studying           _START_ j'étais en train d'étudier _END_\n",
            "106190                      i have to cook the vegetables      _START_ je dois faire cuire les légumes _END_\n",
            "44281                                tom continued eating                _START_ tom continua à manger _END_\n",
            "7785                                        it works well                   _START_ ça fonctionne bien _END_\n",
            "57998                              those are your options                  _START_ ce sont vos options _END_\n",
            "170008       would you like to have a drink before dinner  _START_ souhaitez vous boire un verre avant le...\n",
            "161043           tom should probably tell mary he's sorry  _START_ tom devrait probablement dire à marie ...\n",
            "89891                         can i have something to eat  _START_ puis je avoir quelque chose à manger _...\n",
            "146032               neither of my brothers will be there       _START_ aucun de mes frères ne sera là _END_\n",
            "120277                    i'm just as confused as you are  _START_ je suis aussi perplexe que vous l'êtes...\n",
            "100667                       it was a warm summer evening      _START_ c'était une chaude soirée d'été _END_\n",
            "38876                                 you can't handle it               _START_ tu ne sais pas y faire _END_\n",
            "156737            i'm going to study french next semester  _START_ j'étudierai le français au prochain se...\n",
            "108921                      they did not have enough gold         _START_ ils n'avaient pas assez d'or _END_\n",
            "87800                          tom got rid of his old car  _START_ tom s'est débarrassé de sa vieille voi...\n",
            "171360      the country is heading in the right direction  _START_ le pays s'oriente dans la bonne direct...\n",
            "47956                               i feel better already                _START_ je me sens déjà mieux _END_\n",
            "54370                              i admit that i'm tired         _START_ j'admets que je suis fatigué _END_\n",
            "101891                       the zoo is closed on mondays            _START_ le zoo est fermé le lundi _END_\n",
            "62692                             i wanted you to do that          _START_ je voulais que tu fasses ça _END_\n",
            "179363  the european union has eliminated the death pe...  _START_ l'union européenne a aboli la peine de...\n",
            "80527                           tom looks extremely happy       _START_ tom semble extrêmement heureux _END_\n",
            "59808                              you're really gorgeous        _START_ vous êtes vraiment splendides _END_\n",
            "174884    which one of these glasses did you drink out of   _START_ dans lequel de ces verres as tu bu _END_\n",
            "179401  the idea of surprising her suddenly crossed my...  _START_ l'idée de la surprendre traversa souda...\n",
            "19542                                    please don't die        _START_ s'il vous plait ne mourez pas _END_\n",
            "35008                                 i know tom's sister            _START_ je connais la sœur de tom _END_\n",
            "120056                    i wish that i could believe you       _START_ j'aimerais pouvoir vous croire _END_\n",
            "179760  before we go anywhere we should exchange some ...  _START_ avant d'aller quelque part nous devrio...\n",
            "153941             she is going to have a baby this month     _START_ elle va avoir un bébé ce mois ci _END_\n",
            "102010                       they did what they were told  _START_ ils ont fait ce qu'on leur avait dit _...\n",
            "184794  have you ever been hospitalized for bronchitis...  _START_ avez vous déjà été hospitalisée pour u...\n",
            "96873                         you've got to be kidding me                   _START_ tu dois plaisanter _END_\n",
            "9438                                       come down here                            _START_ descendez _END_\n",
            "118503                    how could you not say something     _START_ comment pourrais tu ne rien dire _END_\n"
          ]
        }
      ]
    },
    {
      "cell_type": "code",
      "metadata": {
        "colab": {
          "base_uri": "https://localhost:8080/"
        },
        "id": "D595CnMKCx3K",
        "outputId": "b677fbad-f69b-40c8-837b-45aee8e8cb9e"
      },
      "source": [
        "'''\n",
        "  Calculate vocbularies and other important values\n",
        "'''\n",
        "# Vocabularies\n",
        "vocab_eng = set()\n",
        "for sentence in lines.eng:\n",
        "  for word in sentence.split():\n",
        "    vocab_eng.add(word)\n",
        "\n",
        "vocab_fra = set()\n",
        "for sentence in lines.fra:\n",
        "  for word in sentence.split():\n",
        "    vocab_fra.add(word)\n",
        "\n",
        "# Max lengths of sequences\n",
        "max_eng = max(len(s.split()) for s in lines.eng)\n",
        "max_fra = max(len(s.split()) for s in lines.fra)\n",
        "\n"
      ],
      "execution_count": 15,
      "outputs": [
        {
          "output_type": "stream",
          "name": "stdout",
          "text": [
            "48\n",
            "57\n",
            "190196    no matter how much you try to convince people ...\n",
            "190197    a child who is a native speaker usually knows ...\n",
            "190198    there are four main causes of alcohol related ...\n",
            "190199    we need to uphold laws against discrimination ...\n",
            "190200    top down economics never works said obama the ...\n",
            "190201    a carbon footprint is the amount of carbon dio...\n",
            "190202    death is something that we're often discourage...\n",
            "190203    since there are usually multiple websites on a...\n",
            "190204    if someone who doesn't know your background sa...\n",
            "190205    it may be impossible to get a completely error...\n",
            "Name: eng, dtype: object\n"
          ]
        }
      ]
    }
  ]
}